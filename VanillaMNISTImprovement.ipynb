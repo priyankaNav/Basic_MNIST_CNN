{
  "nbformat": 4,
  "nbformat_minor": 0,
  "metadata": {
    "colab": {
      "name": "Assignment4.1-EVA.ipynb",
      "version": "0.3.2",
      "provenance": [],
      "collapsed_sections": []
    },
    "kernelspec": {
      "name": "python3",
      "display_name": "Python 3"
    },
    "accelerator": "GPU"
  },
  "cells": [
    {
      "cell_type": "markdown",
      "metadata": {
        "id": "uRdTZ0ILrLhw",
        "colab_type": "text"
      },
      "source": [
        "#Vanilla Network\n",
        " 12424 total parameters(<15000) no Batch normalization or any improvements were used, trained with   Batch size  of 32 with adam optimizer for 75 epochs which took around 32 seconds for each epoch summing up to 40 minutes. \n",
        " \n",
        " 1. As the batch size increased the time for each epoch reduced gradually and also the accuracy decreased drastically.\n",
        " \n",
        " 2. And there is a pattern repeated in the logs. The accuracy increases to some threshold and then drops and the cycle repeats for  higher batch sizes\n",
        " \n",
        "          BatchSize    Accuracy   Time per epoch(avg)\n",
        " \n",
        "              32           99.92       9s\n",
        "               \n",
        "              "
      ]
    },
    {
      "cell_type": "code",
      "metadata": {
        "id": "pcDn3nqXrH9A",
        "colab_type": "code",
        "outputId": "ea6d99fe-fa7c-45b0-f0eb-89ee71c86941",
        "colab": {
          "base_uri": "https://localhost:8080/",
          "height": 34
        }
      },
      "source": [
        "# https://keras.io/\n",
        "!pip install -q keras\n",
        "import keras"
      ],
      "execution_count": 0,
      "outputs": [
        {
          "output_type": "stream",
          "text": [
            "Using TensorFlow backend.\n"
          ],
          "name": "stderr"
        }
      ]
    },
    {
      "cell_type": "code",
      "metadata": {
        "id": "Eso6UHE080D4",
        "colab_type": "code",
        "colab": {}
      },
      "source": [
        "import numpy as np\n",
        "\n",
        "from keras.models import Sequential\n",
        "from keras.layers import Dense, Dropout, Activation, Flatten, Add\n",
        "from keras.layers import Convolution2D, MaxPooling2D\n",
        "from keras.utils import np_utils\n",
        "\n",
        "from keras.datasets import mnist\n",
        "import numpy as np\n",
        "import pandas as pd\n",
        "import matplotlib.pyplot as plt\n",
        "%matplotlib inline\n",
        "from keras.datasets import mnist\n",
        "from keras.models import Sequential\n",
        "from keras.layers import Dense, Dropout, Activation, Flatten\n",
        "from keras.optimizers import Adam\n",
        "from keras.layers.normalization import BatchNormalization\n",
        "from keras.utils import np_utils\n",
        "from keras.layers import Conv2D, MaxPooling2D, ZeroPadding2D, GlobalAveragePooling2D\n",
        "from keras.layers.advanced_activations import LeakyReLU \n",
        "from keras.preprocessing.image import ImageDataGenerator"
      ],
      "execution_count": 0,
      "outputs": []
    },
    {
      "cell_type": "markdown",
      "metadata": {
        "id": "zByEi95J86RD",
        "colab_type": "text"
      },
      "source": [
        "### Load pre-shuffled MNIST data into train and test sets"
      ]
    },
    {
      "cell_type": "code",
      "metadata": {
        "id": "7eRM0QWN83PV",
        "colab_type": "code",
        "colab": {}
      },
      "source": [
        "(X_train, y_train), (X_test, y_test) = mnist.load_data()"
      ],
      "execution_count": 0,
      "outputs": []
    },
    {
      "cell_type": "code",
      "metadata": {
        "id": "4a4Be72j8-ZC",
        "colab_type": "code",
        "outputId": "3272c43c-1108-4a88-c574-be336686ca63",
        "colab": {
          "base_uri": "https://localhost:8080/",
          "height": 304
        }
      },
      "source": [
        "print (X_train.shape)\n",
        "from matplotlib import pyplot as plt\n",
        "%matplotlib inline\n",
        "plt.imshow(X_train[0])"
      ],
      "execution_count": 0,
      "outputs": [
        {
          "output_type": "stream",
          "text": [
            "(60000, 28, 28)\n"
          ],
          "name": "stdout"
        },
        {
          "output_type": "execute_result",
          "data": {
            "text/plain": [
              "<matplotlib.image.AxesImage at 0x7fc7e29a1828>"
            ]
          },
          "metadata": {
            "tags": []
          },
          "execution_count": 5
        },
        {
          "output_type": "display_data",
          "data": {
            "image/png": "[encoded data removed]",
            "text/plain": [
              "<Figure size 432x288 with 1 Axes>"
            ]
          },
          "metadata": {
            "tags": []
          }
        }
      ]
    },
    {
      "cell_type": "code",
      "metadata": {
        "id": "dkmprriw9AnZ",
        "colab_type": "code",
        "colab": {}
      },
      "source": [
        "X_train = X_train.reshape(X_train.shape[0], 28, 28,1)\n",
        "X_test = X_test.reshape(X_test.shape[0], 28, 28,1)"
      ],
      "execution_count": 0,
      "outputs": []
    },
    {
      "cell_type": "code",
      "metadata": {
        "id": "X2m4YS4E9CRh",
        "colab_type": "code",
        "colab": {}
      },
      "source": [
        "X_train = X_train.astype('float32')\n",
        "X_test = X_test.astype('float32')\n",
        "X_train /= 255\n",
        "X_test /= 255"
      ],
      "execution_count": 0,
      "outputs": []
    },
    {
      "cell_type": "code",
      "metadata": {
        "id": "0Mn0vAYD9DvB",
        "colab_type": "code",
        "outputId": "fd727461-5df0-41d5-e390-86ecb6e1d4b9",
        "colab": {
          "base_uri": "https://localhost:8080/",
          "height": 34
        }
      },
      "source": [
        "y_train[:10]"
      ],
      "execution_count": 0,
      "outputs": [
        {
          "output_type": "execute_result",
          "data": {
            "text/plain": [
              "array([5, 0, 4, 1, 9, 2, 1, 3, 1, 4], dtype=uint8)"
            ]
          },
          "metadata": {
            "tags": []
          },
          "execution_count": 8
        }
      ]
    },
    {
      "cell_type": "code",
      "metadata": {
        "id": "ZG8JiXR39FHC",
        "colab_type": "code",
        "colab": {}
      },
      "source": [
        "# Convert 1-dimensional class arrays to 10-dimensional class matrices\n",
        "Y_train = np_utils.to_categorical(y_train, 10)\n",
        "Y_test = np_utils.to_categorical(y_test, 10)"
      ],
      "execution_count": 0,
      "outputs": []
    },
    {
      "cell_type": "code",
      "metadata": {
        "id": "fYlFRvKS9HMB",
        "colab_type": "code",
        "outputId": "e1bd3455-14fe-47a7-d0d2-151661315e6b",
        "colab": {
          "base_uri": "https://localhost:8080/",
          "height": 194
        }
      },
      "source": [
        "Y_train[:10]\n"
      ],
      "execution_count": 0,
      "outputs": [
        {
          "output_type": "execute_result",
          "data": {
            "text/plain": [
              "array([[0., 0., 0., 0., 0., 1., 0., 0., 0., 0.],\n",
              "       [1., 0., 0., 0., 0., 0., 0., 0., 0., 0.],\n",
              "       [0., 0., 0., 0., 1., 0., 0., 0., 0., 0.],\n",
              "       [0., 1., 0., 0., 0., 0., 0., 0., 0., 0.],\n",
              "       [0., 0., 0., 0., 0., 0., 0., 0., 0., 1.],\n",
              "       [0., 0., 1., 0., 0., 0., 0., 0., 0., 0.],\n",
              "       [0., 1., 0., 0., 0., 0., 0., 0., 0., 0.],\n",
              "       [0., 0., 0., 1., 0., 0., 0., 0., 0., 0.],\n",
              "       [0., 1., 0., 0., 0., 0., 0., 0., 0., 0.],\n",
              "       [0., 0., 0., 0., 1., 0., 0., 0., 0., 0.]], dtype=float32)"
            ]
          },
          "metadata": {
            "tags": []
          },
          "execution_count": 10
        }
      ]
    },
    {
      "cell_type": "code",
      "metadata": {
        "id": "osKqT73Q9JJB",
        "colab_type": "code",
        "outputId": "eebbc987-90ae-4927-e319-6ae9d0dcf00d",
        "colab": {
          "base_uri": "https://localhost:8080/",
          "height": 196
        }
      },
      "source": [
        "from keras.layers import Activation\n",
        "model = Sequential()\n",
        " \n",
        "model.add(Convolution2D(32, 3, 3, activation='relu', input_shape=(28,28,1), border_mode='same'))\n",
        "model.add(Convolution2D(16, 3, 3, activation='relu')) #26\n",
        "\n",
        "model.add(MaxPooling2D(pool_size=(2,2)))#13\n",
        "\n",
        "model.add(Convolution2D(32, 3, 3, activation='relu'))#11\n",
        "\n",
        "model.add(MaxPooling2D(pool_size=(2,2)))#5\n",
        "\n",
        "\n",
        "model.add(Convolution2D(10, 1, activation='relu'))\n",
        "model.add(Convolution2D(10, 5))\n",
        "model.add(Flatten())\n",
        "model.add(Activation('softmax'))"
      ],
      "execution_count": 0,
      "outputs": [
        {
          "output_type": "stream",
          "text": [
            "WARNING:tensorflow:From /usr/local/lib/python3.6/dist-packages/tensorflow/python/framework/op_def_library.py:263: colocate_with (from tensorflow.python.framework.ops) is deprecated and will be removed in a future version.\n",
            "Instructions for updating:\n",
            "Colocations handled automatically by placer.\n"
          ],
          "name": "stdout"
        },
        {
          "output_type": "stream",
          "text": [
            "/usr/local/lib/python3.6/dist-packages/ipykernel_launcher.py:4: UserWarning: Update your `Conv2D` call to the Keras 2 API: `Conv2D(32, (3, 3), activation=\"relu\", input_shape=(28, 28, 1..., padding=\"same\")`\n",
            "  after removing the cwd from sys.path.\n",
            "/usr/local/lib/python3.6/dist-packages/ipykernel_launcher.py:5: UserWarning: Update your `Conv2D` call to the Keras 2 API: `Conv2D(16, (3, 3), activation=\"relu\")`\n",
            "  \"\"\"\n",
            "/usr/local/lib/python3.6/dist-packages/ipykernel_launcher.py:9: UserWarning: Update your `Conv2D` call to the Keras 2 API: `Conv2D(32, (3, 3), activation=\"relu\")`\n",
            "  if __name__ == '__main__':\n"
          ],
          "name": "stderr"
        }
      ]
    },
    {
      "cell_type": "code",
      "metadata": {
        "id": "TzdAYg1k9K7Z",
        "colab_type": "code",
        "outputId": "eddd7a11-3b8c-4d03-9c2e-55f4113a5577",
        "colab": {
          "base_uri": "https://localhost:8080/",
          "height": 461
        }
      },
      "source": [
        "model.summary()"
      ],
      "execution_count": 0,
      "outputs": [
        {
          "output_type": "stream",
          "text": [
            "_________________________________________________________________\n",
            "Layer (type)                 Output Shape              Param #   \n",
            "=================================================================\n",
            "conv2d_1 (Conv2D)            (None, 28, 28, 32)        320       \n",
            "_________________________________________________________________\n",
            "conv2d_2 (Conv2D)            (None, 26, 26, 16)        4624      \n",
            "_________________________________________________________________\n",
            "max_pooling2d_1 (MaxPooling2 (None, 13, 13, 16)        0         \n",
            "_________________________________________________________________\n",
            "conv2d_3 (Conv2D)            (None, 11, 11, 32)        4640      \n",
            "_________________________________________________________________\n",
            "max_pooling2d_2 (MaxPooling2 (None, 5, 5, 32)          0         \n",
            "_________________________________________________________________\n",
            "conv2d_4 (Conv2D)            (None, 5, 5, 10)          330       \n",
            "_________________________________________________________________\n",
            "conv2d_5 (Conv2D)            (None, 1, 1, 10)          2510      \n",
            "_________________________________________________________________\n",
            "flatten_1 (Flatten)          (None, 10)                0         \n",
            "_________________________________________________________________\n",
            "activation_1 (Activation)    (None, 10)                0         \n",
            "=================================================================\n",
            "Total params: 12,424\n",
            "Trainable params: 12,424\n",
            "Non-trainable params: 0\n",
            "_________________________________________________________________\n"
          ],
          "name": "stdout"
        }
      ]
    },
    {
      "cell_type": "code",
      "metadata": {
        "id": "Zp6SuGrL9M3h",
        "colab_type": "code",
        "colab": {}
      },
      "source": [
        "model.compile(loss='categorical_crossentropy',\n",
        "             optimizer='adam',\n",
        "             metrics=['accuracy'])"
      ],
      "execution_count": 0,
      "outputs": []
    },
    {
      "cell_type": "code",
      "metadata": {
        "id": "4xWoKhPY9Of5",
        "colab_type": "code",
        "outputId": "c8634019-ae2a-421b-f3b2-58d39c5fff64",
        "colab": {
          "base_uri": "https://localhost:8080/",
          "height": 1156
        }
      },
      "source": [
        "\n",
        "model.fit(X_train, Y_train, batch_size=32, nb_epoch=30)\n",
        "\n"
      ],
      "execution_count": 0,
      "outputs": [
        {
          "output_type": "stream",
          "text": [
            "Epoch 1/30\n",
            "  832/60000 [..............................] - ETA: 12s - loss: 0.0061 - acc: 0.9988    "
          ],
          "name": "stdout"
        },
        {
          "output_type": "stream",
          "text": [
            "/usr/local/lib/python3.6/dist-packages/ipykernel_launcher.py:2: UserWarning: The `nb_epoch` argument in `fit` has been renamed `epochs`.\n",
            "  \n"
          ],
          "name": "stderr"
        },
        {
          "output_type": "stream",
          "text": [
            "60000/60000 [==============================] - 10s 163us/step - loss: 0.0037 - acc: 0.9990\n",
            "Epoch 2/30\n",
            "60000/60000 [==============================] - 10s 160us/step - loss: 0.0053 - acc: 0.9985\n",
            "Epoch 3/30\n",
            "60000/60000 [==============================] - 10s 160us/step - loss: 0.0041 - acc: 0.9990\n",
            "Epoch 4/30\n",
            "60000/60000 [==============================] - 10s 159us/step - loss: 0.0043 - acc: 0.9989\n",
            "Epoch 5/30\n",
            "60000/60000 [==============================] - 9s 158us/step - loss: 0.0037 - acc: 0.9989\n",
            "Epoch 6/30\n",
            "60000/60000 [==============================] - 9s 158us/step - loss: 0.0039 - acc: 0.9989\n",
            "Epoch 7/30\n",
            "60000/60000 [==============================] - 9s 158us/step - loss: 0.0046 - acc: 0.9988\n",
            "Epoch 8/30\n",
            "60000/60000 [==============================] - 9s 157us/step - loss: 0.0039 - acc: 0.9989\n",
            "Epoch 9/30\n",
            "60000/60000 [==============================] - 10s 163us/step - loss: 0.0032 - acc: 0.9990\n",
            "Epoch 10/30\n",
            "60000/60000 [==============================] - 9s 156us/step - loss: 0.0039 - acc: 0.9989\n",
            "Epoch 11/30\n",
            "60000/60000 [==============================] - 9s 157us/step - loss: 0.0042 - acc: 0.9988\n",
            "Epoch 12/30\n",
            "60000/60000 [==============================] - 9s 156us/step - loss: 0.0034 - acc: 0.9991\n",
            "Epoch 13/30\n",
            "60000/60000 [==============================] - 9s 156us/step - loss: 0.0049 - acc: 0.9989\n",
            "Epoch 14/30\n",
            "60000/60000 [==============================] - 9s 156us/step - loss: 0.0030 - acc: 0.9992\n",
            "Epoch 15/30\n",
            "60000/60000 [==============================] - 9s 155us/step - loss: 0.0058 - acc: 0.9987\n",
            "Epoch 16/30\n",
            "60000/60000 [==============================] - 10s 164us/step - loss: 0.0034 - acc: 0.9989\n",
            "Epoch 17/30\n",
            "60000/60000 [==============================] - 10s 160us/step - loss: 0.0034 - acc: 0.9990\n",
            "Epoch 18/30\n",
            "60000/60000 [==============================] - 9s 157us/step - loss: 0.0048 - acc: 0.9988\n",
            "Epoch 19/30\n",
            "60000/60000 [==============================] - 9s 155us/step - loss: 0.0035 - acc: 0.9989\n",
            "Epoch 20/30\n",
            "60000/60000 [==============================] - 9s 155us/step - loss: 0.0042 - acc: 0.9987\n",
            "Epoch 21/30\n",
            "60000/60000 [==============================] - 9s 156us/step - loss: 0.0053 - acc: 0.9986\n",
            "Epoch 22/30\n",
            "60000/60000 [==============================] - 9s 154us/step - loss: 0.0035 - acc: 0.9990\n",
            "Epoch 23/30\n",
            "60000/60000 [==============================] - 9s 152us/step - loss: 0.0043 - acc: 0.9989\n",
            "Epoch 24/30\n",
            "60000/60000 [==============================] - 9s 154us/step - loss: 0.0029 - acc: 0.9994\n",
            "Epoch 25/30\n",
            "60000/60000 [==============================] - 9s 155us/step - loss: 0.0032 - acc: 0.9990\n",
            "Epoch 26/30\n",
            "60000/60000 [==============================] - 9s 158us/step - loss: 0.0053 - acc: 0.9987\n",
            "Epoch 27/30\n",
            "60000/60000 [==============================] - 9s 156us/step - loss: 0.0030 - acc: 0.9993\n",
            "Epoch 28/30\n",
            "60000/60000 [==============================] - 9s 154us/step - loss: 0.0043 - acc: 0.9990\n",
            "Epoch 29/30\n",
            "60000/60000 [==============================] - 9s 153us/step - loss: 0.0050 - acc: 0.9987\n",
            "Epoch 30/30\n",
            "60000/60000 [==============================] - 9s 153us/step - loss: 0.0031 - acc: 0.9992\n"
          ],
          "name": "stdout"
        },
        {
          "output_type": "execute_result",
          "data": {
            "text/plain": [
              "<keras.callbacks.History at 0x7fc7d12912e8>"
            ]
          },
          "metadata": {
            "tags": []
          },
          "execution_count": 24
        }
      ]
    },
    {
      "cell_type": "code",
      "metadata": {
        "id": "AtsH-lLk-eLb",
        "colab_type": "code",
        "outputId": "d7932333-ca7d-4e56-e55a-02b07bb08abd",
        "colab": {
          "base_uri": "https://localhost:8080/",
          "height": 34
        }
      },
      "source": [
        "score = model.evaluate(X_test, Y_test, verbose=0)\n",
        "print(score)"
      ],
      "execution_count": 0,
      "outputs": [
        {
          "output_type": "stream",
          "text": [
            "[0.09135195714950319, 0.9904]\n"
          ],
          "name": "stdout"
        }
      ]
    },
    {
      "cell_type": "code",
      "metadata": {
        "id": "OCWoJkwE9suh",
        "colab_type": "code",
        "colab": {}
      },
      "source": [
        "y_pred = model.predict(X_test)"
      ],
      "execution_count": 0,
      "outputs": []
    },
    {
      "cell_type": "code",
      "metadata": {
        "id": "Ym7iCFBm9uBs",
        "colab_type": "code",
        "outputId": "8255958a-59f6-4b7d-f7d5-1a98f99230fd",
        "colab": {
          "base_uri": "https://localhost:8080/",
          "height": 354
        }
      },
      "source": [
        "print(y_pred[:9])\n",
        "print(y_test[:9])"
      ],
      "execution_count": 0,
      "outputs": [
        {
          "output_type": "stream",
          "text": [
            "[[0.0000000e+00 4.8002920e-36 7.1921865e-31 1.5128478e-30 0.0000000e+00\n",
            "  0.0000000e+00 0.0000000e+00 1.0000000e+00 0.0000000e+00 1.4555625e-31]\n",
            " [9.5057982e-33 1.0712395e-24 1.0000000e+00 0.0000000e+00 0.0000000e+00\n",
            "  0.0000000e+00 6.4301246e-27 0.0000000e+00 8.9922426e-36 0.0000000e+00]\n",
            " [1.1000081e-23 1.0000000e+00 1.7446989e-18 4.7092812e-27 9.4989568e-16\n",
            "  9.9305601e-21 8.5069837e-24 3.5159570e-17 8.5624634e-16 5.9818316e-30]\n",
            " [1.0000000e+00 0.0000000e+00 4.4211711e-37 0.0000000e+00 0.0000000e+00\n",
            "  1.1560747e-31 1.9529425e-17 0.0000000e+00 7.8399048e-23 5.7325727e-26]\n",
            " [0.0000000e+00 0.0000000e+00 0.0000000e+00 0.0000000e+00 1.0000000e+00\n",
            "  0.0000000e+00 0.0000000e+00 0.0000000e+00 0.0000000e+00 1.6323289e-33]\n",
            " [1.2998194e-24 1.0000000e+00 4.2118492e-20 1.0999001e-36 2.3336295e-20\n",
            "  1.5213733e-29 6.0089240e-33 1.7878121e-17 1.1167529e-20 6.2896286e-29]\n",
            " [0.0000000e+00 1.9219931e-29 1.8273370e-37 0.0000000e+00 1.0000000e+00\n",
            "  3.0134055e-27 0.0000000e+00 4.1922219e-31 1.3142141e-23 8.4556450e-30]\n",
            " [0.0000000e+00 1.3789819e-31 3.6310283e-23 1.0656269e-24 7.8237999e-06\n",
            "  5.4148980e-25 0.0000000e+00 0.0000000e+00 5.1449608e-18 9.9999213e-01]\n",
            " [3.5253564e-33 0.0000000e+00 0.0000000e+00 0.0000000e+00 0.0000000e+00\n",
            "  1.0000000e+00 3.9628132e-13 0.0000000e+00 1.1745202e-12 8.7850878e-26]]\n",
            "[7 2 1 0 4 1 4 9 5]\n"
          ],
          "name": "stdout"
        }
      ]
    },
    {
      "cell_type": "code",
      "metadata": {
        "id": "CT--y98_dr2T",
        "colab_type": "code",
        "outputId": "e281d1fe-1ad7-45e6-c8af-6229937f04ba",
        "colab": {
          "base_uri": "https://localhost:8080/",
          "height": 176
        }
      },
      "source": [
        "layer_dict = dict([(layer.name, layer) for layer in model.layers])\n",
        "layer_dict"
      ],
      "execution_count": 0,
      "outputs": [
        {
          "output_type": "execute_result",
          "data": {
            "text/plain": [
              "{'activation_1': <keras.layers.core.Activation at 0x7fc7df8ad860>,\n",
              " 'conv2d_1': <keras.layers.convolutional.Conv2D at 0x7fc7e0128278>,\n",
              " 'conv2d_2': <keras.layers.convolutional.Conv2D at 0x7fc7e0128438>,\n",
              " 'conv2d_3': <keras.layers.convolutional.Conv2D at 0x7fc7e0128780>,\n",
              " 'conv2d_4': <keras.layers.convolutional.Conv2D at 0x7fc7e0128940>,\n",
              " 'conv2d_5': <keras.layers.convolutional.Conv2D at 0x7fc7df8f0f98>,\n",
              " 'flatten_1': <keras.layers.core.Flatten at 0x7fc7df914a20>,\n",
              " 'max_pooling2d_1': <keras.layers.pooling.MaxPooling2D at 0x7fc7e013af28>,\n",
              " 'max_pooling2d_2': <keras.layers.pooling.MaxPooling2D at 0x7fc7df8f0e48>}"
            ]
          },
          "metadata": {
            "tags": []
          },
          "execution_count": 28
        }
      ]
    },
    {
      "cell_type": "code",
      "metadata": {
        "id": "2GY4Upv4dsUR",
        "colab_type": "code",
        "outputId": "79be3284-f5b8-454a-a2a1-f46ed6440002",
        "colab": {
          "base_uri": "https://localhost:8080/",
          "height": 854
        }
      },
      "source": [
        "import numpy as np\n",
        "from matplotlib import pyplot as plt\n",
        "from keras import backend as K\n",
        "%matplotlib inline\n",
        "# util function to convert a tensor into a valid image\n",
        "def deprocess_image(x):\n",
        "    # normalize tensor: center on 0., ensure std is 0.1\n",
        "    x -= x.mean()\n",
        "    x /= (x.std() + 1e-5)\n",
        "    x *= 0.1\n",
        "\n",
        "    # clip to [0, 1]\n",
        "    x += 0.5\n",
        "    x = np.clip(x, 0, 1)\n",
        "\n",
        "    # convert to RGB array\n",
        "    x *= 255\n",
        "    #x = x.transpose((1, 2, 0))\n",
        "    x = np.clip(x, 0, 255).astype('uint8')\n",
        "    return x\n",
        "\n",
        "def vis_img_in_filter(img = np.array(X_train[2]).reshape((1, 28, 28, 1)).astype(np.float64), \n",
        "                      layer_name = 'conv2d_1'):\n",
        "    print(layer_name)\n",
        "    layer_output = layer_dict[layer_name].output\n",
        "    img_ascs = list()\n",
        "    for filter_index in range(layer_output.shape[3]):\n",
        "        # build a loss function that maximizes the activation\n",
        "        # of the nth filter of the layer considered\n",
        "        loss = K.mean(layer_output[:, :, :, filter_index])\n",
        "        \n",
        "\n",
        "        # compute the gradient of the input picture wrt this loss\n",
        "        grads = K.gradients(loss, model.input)[0]\n",
        "        \n",
        "\n",
        "        # normalization trick: we normalize the gradient\n",
        "        grads /= (K.sqrt(K.mean(K.square(grads))) + 1e-5)\n",
        "\n",
        "        # this function returns the loss and grads given the input picture\n",
        "        iterate = K.function([model.input], [loss, grads])\n",
        "\n",
        "        # step size for gradient ascent\n",
        "        step = 5\n",
        "\n",
        "        img_asc = np.array(img)\n",
        "        # run gradient ascent for 20 steps\n",
        "        for i in range(20):\n",
        "            loss_value, grads_value = iterate([img_asc])\n",
        "            img_asc += grads_value * step\n",
        "\n",
        "        img_asc = img_asc[0]\n",
        "        img_ascs.append(deprocess_image(img_asc).reshape((28, 28)))\n",
        "        \n",
        "    if layer_output.shape[3] >= 35:\n",
        "        plot_x, plot_y = 6, 6\n",
        "    elif layer_output.shape[3] >= 23:\n",
        "        plot_x, plot_y = 4, 6\n",
        "    elif layer_output.shape[3] >= 11:\n",
        "        plot_x, plot_y = 2, 6\n",
        "    else:\n",
        "        plot_x, plot_y = 1, 2\n",
        "    fig, ax = plt.subplots(plot_x, plot_y, figsize = (12, 12))\n",
        "    ax[0, 0].imshow(img.reshape((28, 28)), cmap = 'gray')\n",
        "    ax[0, 0].set_title('Input image')\n",
        "    fig.suptitle('Input image and %s filters' % (layer_name,))\n",
        "    fig.tight_layout(pad = 0.3, rect = [0, 0, 0.9, 0.9])\n",
        "    for (x, y) in [(i, j) for i in range(plot_x) for j in range(plot_y)]:\n",
        "        if x == 0 and y == 0:\n",
        "            continue\n",
        "        ax[x, y].imshow(img_ascs[x * plot_y + y - 1], cmap = 'gray')\n",
        "        ax[x, y].set_title('filter %d' % (x * plot_y + y - 1))\n",
        "        \n",
        "\n",
        "vis_img_in_filter()"
      ],
      "execution_count": 0,
      "outputs": [
        {
          "output_type": "stream",
          "text": [
            "conv2d_1\n"
          ],
          "name": "stdout"
        },
        {
          "output_type": "display_data",
          "data": {
            "image/png": "[encoded data removed]",
            "text/plain": [
              "<Figure size 864x864 with 24 Axes>"
            ]
          },
          "metadata": {
            "tags": []
          }
        }
      ]
    },
    {
      "cell_type": "code",
      "metadata": {
        "id": "9tvptcn8dxvp",
        "colab_type": "code",
        "colab": {}
      },
      "source": [
        ""
      ],
      "execution_count": 0,
      "outputs": []
    }
  ]
}